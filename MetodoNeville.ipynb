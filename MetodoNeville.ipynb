{
  "metadata": {
    "language_info": {
      "codemirror_mode": {
        "name": "python",
        "version": 3
      },
      "file_extension": ".py",
      "mimetype": "text/x-python",
      "name": "python",
      "nbconvert_exporter": "python",
      "pygments_lexer": "ipython3",
      "version": "3.8"
    },
    "kernelspec": {
      "name": "python",
      "display_name": "Python (Pyodide)",
      "language": "python"
    }
  },
  "nbformat_minor": 4,
  "nbformat": 4,
  "cells": [
    {
      "cell_type": "code",
      "source": "def tabla_diferencias_divididas_neville(x, y):\n    n = len(x)\n    Q = [[0] * n for _ in range(n)]  #  Matriz Q inicializada con ceros\n    \n    for i in range(n):\n        Q[i][0] = y[i]  # Asignar los valores de la primera columna de Q\n    \n    for i in range(1, n):\n        for j in range(1, i + 1):\n            Q[i][j] = round(((x[i] - x[i-j]) * Q[i][j-1] - (x[i] - x[i-j+1]) * Q[i-1][j-1]) / (x[i] - x[i-j]), 4)\n    \n    return Q\n",
      "metadata": {
        "trusted": true
      },
      "execution_count": 11,
      "outputs": []
    },
    {
      "cell_type": "code",
      "source": "# Crea la tabla de diferencias divididas\ndef imprimir_tabla_diferencias_divididas(Q):\n    n = len(Q)\n    for i in range(n):\n        for j in range(i + 1):\n            print(Q[i][j], end=\"\\t\")\n        print()\n",
      "metadata": {
        "trusted": true
      },
      "execution_count": 12,
      "outputs": []
    },
    {
      "cell_type": "code",
      "source": "# Evalua la interpolación\ndef interpolacion_neville(Q, x, x_eval):\n    n = len(x)\n    r = Q[n-1][n-1] \n    \n    for i in range(n-2, -1, -1):\n        resultado = Q[i][i] + (x_eval - x[i]) * r\n    \n    return round(r, 4)",
      "metadata": {
        "trusted": true
      },
      "execution_count": 13,
      "outputs": []
    },
    {
      "cell_type": "code",
      "source": "# Valores del libro\nx = [2.0, 2.2, 2.3]\ny = [0.6931, 0.7885, 0.8329]\nQ = tabla_diferencias_divididas_neville(x, y)\nimprimir_tabla_diferencias_divididas(Q)",
      "metadata": {
        "trusted": true
      },
      "execution_count": 14,
      "outputs": [
        {
          "name": "stdout",
          "text": "0.6931\t\n0.7885\t0.7885\t\n0.8329\t0.8329\t0.5701\t\n",
          "output_type": "stream"
        }
      ]
    },
    {
      "cell_type": "code",
      "source": "x_eval = 2.1\nr = interpolacion_neville(Q, x, x_eval)\nprint(\"El valor aproximado de f(2.1) es:\", r)",
      "metadata": {
        "trusted": true
      },
      "execution_count": 10,
      "outputs": [
        {
          "name": "stdout",
          "text": "El valor aproximado de f(2.1) es: 0.5701\n",
          "output_type": "stream"
        }
      ]
    }
  ]
}